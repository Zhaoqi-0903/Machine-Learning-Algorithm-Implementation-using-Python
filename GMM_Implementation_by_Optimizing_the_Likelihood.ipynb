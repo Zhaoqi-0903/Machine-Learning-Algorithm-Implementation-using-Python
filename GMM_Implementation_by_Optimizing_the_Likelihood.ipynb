{
  "nbformat": 4,
  "nbformat_minor": 0,
  "metadata": {
    "colab": {
      "name": "GMM Implementation by Optimizing the Likelihood.ipynb",
      "provenance": [],
      "collapsed_sections": [],
      "authorship_tag": "ABX9TyO7dGOXzOom4mwYBcnV+4WG",
      "include_colab_link": true
    },
    "kernelspec": {
      "name": "python3",
      "display_name": "Python 3"
    },
    "accelerator": "GPU"
  },
  "cells": [
    {
      "cell_type": "markdown",
      "metadata": {
        "id": "view-in-github",
        "colab_type": "text"
      },
      "source": [
        "<a href=\"https://colab.research.google.com/github/Zhaoqi-0903/Machine-Learning-Algorithm-Implementation-using-Python/blob/main/GMM_Implementation_by_Optimizing_the_Likelihood.ipynb\" target=\"_parent\"><img src=\"https://colab.research.google.com/assets/colab-badge.svg\" alt=\"Open In Colab\"/></a>"
      ]
    },
    {
      "cell_type": "markdown",
      "metadata": {
        "id": "iH0FlzGcaLhX"
      },
      "source": [
        "In this implementation, we optimize parameters of an estimated Gaussian mixture model (GMM) by directly optimizing the maximum likelihood estimation (MLE)."
      ]
    },
    {
      "cell_type": "markdown",
      "metadata": {
        "id": "LYFYE-vbak10"
      },
      "source": [
        "# Data and Setup "
      ]
    },
    {
      "cell_type": "markdown",
      "metadata": {
        "id": "HHJILLgXbAle"
      },
      "source": [
        "First, it may help to enable GPUs for the notebook:\n",
        "\n",
        "*  Navigate to Edit→Notebook Settings\n",
        "*  Select GPU from the Hardware Accelerator drop-down\n",
        "\n",
        "Next, confirm that we can connect to the GPU with tensorflow.\n",
        "\n",
        "(Note, it is fine if you can not connect to GPU, it just might take a little longer to run.)"
      ]
    },
    {
      "cell_type": "code",
      "metadata": {
        "colab": {
          "base_uri": "https://localhost:8080/"
        },
        "id": "XShfoGx9aHce",
        "outputId": "5e158a2e-8651-4958-b056-180fa9b92362"
      },
      "source": [
        "%tensorflow_version 2.x\n",
        "import tensorflow as tf\n",
        "device_name = tf.test.gpu_device_name()\n",
        "if device_name != '/device:GPU:0':\n",
        "  raise SystemError('GPU device not found')\n",
        "print('Found GPU at: {}'.format(device_name))"
      ],
      "execution_count": 1,
      "outputs": [
        {
          "output_type": "stream",
          "text": [
            "Found GPU at: /device:GPU:0\n"
          ],
          "name": "stdout"
        }
      ]
    },
    {
      "cell_type": "code",
      "metadata": {
        "id": "A2gZofdybvwM"
      },
      "source": [
        "%matplotlib inline\n",
        "import numpy as np\n",
        "import matplotlib.pyplot as plt"
      ],
      "execution_count": 5,
      "outputs": []
    },
    {
      "cell_type": "markdown",
      "metadata": {
        "id": "WQO3SLAbb4TT"
      },
      "source": [
        "Next, we prescribe the ground truth parameters to generate data. Recall that the parameters are  𝜋𝑗 (the mixing prior coefficients for components),  𝜇𝑗 (the means for components), and  𝜎𝑗 (the standard deviation for components).  𝜋  will be represented with logits in gt_logits; 𝜇  is represented by gt_means.  𝜎  is represented in log space by gt_lsigmas; \n",
        "\n",
        "i.e. the softmax of gt_logits is  𝜋 . \n",
        "\n",
        "i.e. the exp of gt_lsigmas is  𝜎 ."
      ]
    },
    {
      "cell_type": "code",
      "metadata": {
        "id": "dVNH3F3ab3mT"
      },
      "source": [
        "gt_logits = tf.math.log([1/4, 1/4, 1/6, 1/6, 1/6])\n",
        "gt_means = tf.convert_to_tensor([1.0, -0.5, -2, .5, 3])\n",
        "gt_lsigmas = tf.math.log([.5, 1.0, .2, 0.1, .5])"
      ],
      "execution_count": 3,
      "outputs": []
    },
    {
      "cell_type": "markdown",
      "metadata": {
        "id": "BN5wqrcMcgaC"
      },
      "source": [
        "First, we generate sample data based on the parameters. "
      ]
    },
    {
      "cell_type": "code",
      "metadata": {
        "id": "8sn2Ob0ccmcf"
      },
      "source": [
        "def make_data(N, logits, means, lsigmas):\n",
        "  z = tf.transpose(tf.random.categorical([logits], N))\n",
        "  y = tf.random.normal((N, 1))\n",
        "  sigma = tf.math.exp(lsigmas)\n",
        "  x = y * tf.gather(sigma,z)+tf.gather(means,z)\n",
        "  return x"
      ],
      "execution_count": 2,
      "outputs": []
    },
    {
      "cell_type": "markdown",
      "metadata": {
        "id": "egYs_dtHc9i8"
      },
      "source": [
        "Then we plot the histogram of data."
      ]
    },
    {
      "cell_type": "code",
      "metadata": {
        "colab": {
          "base_uri": "https://localhost:8080/",
          "height": 265
        },
        "id": "29v67UBLdEto",
        "outputId": "9cb70321-3160-4e84-e2d8-ff1e4c434de8"
      },
      "source": [
        "NUM_EXAMPLES = 5000\n",
        "training_inputs = make_data(NUM_EXAMPLES, gt_logits, gt_means, gt_lsigmas)\n",
        "plt.hist(np.reshape(training_inputs, [-1]), bins=50, alpha=0.5,\n",
        "         histtype='stepfilled', color='steelblue', edgecolor='none');"
      ],
      "execution_count": 8,
      "outputs": [
        {
          "output_type": "display_data",
          "data": {
            "image/png": "[encoded data removed]",
            "text/plain": [
              "<Figure size 432x288 with 1 Axes>"
            ]
          },
          "metadata": {
            "tags": [],
            "needs_background": "light"
          }
        }
      ]
    },
    {
      "cell_type": "markdown",
      "metadata": {
        "id": "YjXc_cSNdRce"
      },
      "source": [
        "# Likelihood based GMMs\n"
      ]
    },
    {
      "cell_type": "markdown",
      "metadata": {
        "id": "4GembOiKfpEL"
      },
      "source": [
        "### Mixture Likelihood"
      ]
    },
    {
      "cell_type": "markdown",
      "metadata": {
        "id": "S1g6c3_fdaBo"
      },
      "source": [
        "The below chunk is a function that computes the log-likelihood for data inputs given our estimated paratemters.\n",
        "To be numerically stable, we choose to use `tf.reduce_logsumexp()` ."
      ]
    },
    {
      "cell_type": "code",
      "metadata": {
        "id": "1_bZSHKbdRKa"
      },
      "source": [
        "def mixture_likelihood(x, logits, means, lsigmas):\n",
        "    \"\"\"Given log-unnormalized mixture weights, shift, and log scale parameters\n",
        "    for mixture components, return the likelihoods for targets.\n",
        "    Args:\n",
        "        x: N x 1 tensor of 1d targets to get likelihoods for.\n",
        "        logits: ncomp tensor of mixing priors of mixture model.\n",
        "        means: ncomp tensor of means of mixture model.\n",
        "        lsigmas: ncomp tensor of log std. dev. of mixture model.\n",
        "    Return:\n",
        "        likelihoods: N x 1  tensor of likelihoods log p(x).\n",
        "    \"\"\"\n",
        "    # Compute likelihoods per x\n",
        "    # Write log likelihood with logsumexp.\n",
        "    sigma = tf.math.exp(lsigmas)\n",
        "    pdf = -1/2*((x-means)/sigma)**2 - 1/2*tf.math.log(2*np.pi*sigma**2) # logpdf take log of the pdf first\n",
        "    logp = pdf+ tf.math.log(tf.nn.softmax(logits))\n",
        "    return tf.reduce_logsumexp(logp,1)  # TODO"
      ],
      "execution_count": 11,
      "outputs": []
    },
    {
      "cell_type": "markdown",
      "metadata": {
        "id": "ala2cC0Keu_8"
      },
      "source": [
        "We can plot our likelihood using the ground truth parameters. The likelihood density match up with the histogram above."
      ]
    },
    {
      "cell_type": "code",
      "metadata": {
        "id": "LxCIvGXrfMCb"
      },
      "source": [
        "def plot_density(logits, means, lsigmas):\n",
        "  gridx = np.reshape(np.linspace(-5.0, 5.0, 1000), [-1, 1])\n",
        "  log_px = mixture_likelihood(gridx, logits, means, lsigmas)\n",
        "  plt.plot(gridx, np.exp(log_px))\n",
        "  plt.scatter(tf.reshape(means, [-1, 1]), np.exp(mixture_likelihood(tf.reshape(means, [-1, 1]), logits, means, lsigmas)))"
      ],
      "execution_count": 9,
      "outputs": []
    },
    {
      "cell_type": "code",
      "metadata": {
        "colab": {
          "base_uri": "https://localhost:8080/",
          "height": 265
        },
        "id": "1BjciFAVfQ-e",
        "outputId": "97060a45-c126-4024-c472-433d85dbf6d1"
      },
      "source": [
        "plot_density(gt_logits, gt_means, gt_lsigmas)"
      ],
      "execution_count": 12,
      "outputs": [
        {
          "output_type": "display_data",
          "data": {
            "image/png": "[encoded data removed]",
            "text/plain": [
              "<Figure size 432x288 with 1 Axes>"
            ]
          },
          "metadata": {
            "tags": [],
            "needs_background": "light"
          }
        }
      ]
    },
    {
      "cell_type": "markdown",
      "metadata": {
        "id": "vtviSbATfiBf"
      },
      "source": [
        "### Optimization"
      ]
    },
    {
      "cell_type": "markdown",
      "metadata": {
        "id": "jv9-U_-qgBpG"
      },
      "source": [
        "**Model**\n",
        "\n",
        "First, we implement a keras model for GMMs."
      ]
    },
    {
      "cell_type": "code",
      "metadata": {
        "id": "UiCf2j4Pfhx5"
      },
      "source": [
        "class GMM(tf.keras.Model):\n",
        "  def __init__(self, k):\n",
        "    super(GMM, self).__init__()\n",
        "    \"\"\"\n",
        "    It helps to initialize variables close to zero with a small range \n",
        "    (about 0.1 standard deviation).\n",
        "    \"\"\"\n",
        "    #logits_float64 = tf.math.log(np.random.dirichlet(np.ones(k),size=1)[0])\n",
        "    #self.logits = tf.Variable(tf.cast(logits_float64, tf.float32),name = 'logits') #TODO\n",
        "    self.logits = tf.Variable(tf.random.normal([k],0,0.1),name='logits')\n",
        "    self.means = tf.Variable(tf.random.normal([k],0,0.1), name='means')\n",
        "    self.lsigmas = tf.Variable(tf.math.log(abs(tf.random.normal([k],0,1.1))), name='lsigmas')\n",
        "    \n",
        "  def call(self, inputs):\n",
        "    \"\"\"\n",
        "    The model should return the mixture likelihood of inputs. \n",
        "    \"\"\"\n",
        "    return mixture_likelihood(inputs, self.logits, self.means, self.lsigmas)  # TODO"
      ],
      "execution_count": 17,
      "outputs": []
    },
    {
      "cell_type": "markdown",
      "metadata": {
        "id": "An5qnB5hg9v5"
      },
      "source": [
        "**Loss**\n",
        "\n",
        "We implement the loss function to minimize according to gradients."
      ]
    },
    {
      "cell_type": "code",
      "metadata": {
        "id": "Hum9Cx6shKHw"
      },
      "source": [
        "def loss(model, inputs):\n",
        "  return -tf.reduce_sum(model(inputs)) # or can calculate the mean use tf.reduce_mean()\n",
        "\n",
        "def grad(model,inputs):\n",
        "  with tf.GradientTape() as tape:\n",
        "    loss_value = loss(model,inputs)\n",
        "  return tape.gradient(loss_value, model.trainable_variables)"
      ],
      "execution_count": 14,
      "outputs": []
    },
    {
      "cell_type": "markdown",
      "metadata": {
        "id": "m0ethuxNhteQ"
      },
      "source": [
        "**Train**\n",
        "\n",
        "Lastly, we train using training data. "
      ]
    },
    {
      "cell_type": "code",
      "metadata": {
        "colab": {
          "base_uri": "https://localhost:8080/",
          "height": 792
        },
        "id": "YU4b1NFDh6Tf",
        "outputId": "9f546f77-dd62-40b3-e869-9662ce3cf6c2"
      },
      "source": [
        "K = 5\n",
        "model = GMM(K)\n",
        "optimizer = tf.keras.optimizers.Adam(learning_rate=0.01)\n",
        "\n",
        "print(\"Initial loss: {:.3f}\".format(loss(model, training_inputs)))\n",
        "plot_density(model.logits, model.means, model.lsigmas)\n",
        "\n",
        "steps = 3000\n",
        "for i in range(steps):\n",
        "  \"\"\" \n",
        "  Hint: \n",
        "  grads = something with training_inputs...\n",
        "  \"\"\"\n",
        "  grads = grad(model,training_inputs)  # TODO\n",
        "  optimizer.apply_gradients(zip(grads, model.trainable_variables))\n",
        "  if i % 100 == 0:\n",
        "    print(\"Loss at step {:03d}: {:.3f}\".format(i, loss(model, training_inputs)))\n",
        "    plot_density(model.logits, model.means, model.lsigmas)"
      ],
      "execution_count": 22,
      "outputs": [
        {
          "output_type": "stream",
          "text": [
            "Initial loss: 11956.600\n",
            "Loss at step 000: 11854.918\n",
            "Loss at step 100: 9251.773\n",
            "Loss at step 200: 9050.289\n",
            "Loss at step 300: 9014.751\n",
            "Loss at step 400: 9008.730\n",
            "Loss at step 500: 9005.497\n",
            "Loss at step 600: 9003.795\n",
            "Loss at step 700: 9002.369\n",
            "Loss at step 800: 8991.670\n",
            "Loss at step 900: 8260.509\n",
            "Loss at step 1000: 8258.195\n",
            "Loss at step 1100: 8257.938\n",
            "Loss at step 1200: 8257.682\n",
            "Loss at step 1300: 8257.360\n",
            "Loss at step 1400: 8256.725\n",
            "Loss at step 1500: 8254.257\n",
            "Loss at step 1600: 8244.670\n",
            "Loss at step 1700: 8233.570\n",
            "Loss at step 1800: 8228.805\n",
            "Loss at step 1900: 8189.928\n",
            "Loss at step 2000: 8012.279\n",
            "Loss at step 2100: 8011.023\n",
            "Loss at step 2200: 8010.703\n",
            "Loss at step 2300: 8010.520\n",
            "Loss at step 2400: 8010.414\n",
            "Loss at step 2500: 8010.353\n",
            "Loss at step 2600: 8010.318\n",
            "Loss at step 2700: 8010.300\n",
            "Loss at step 2800: 8010.291\n",
            "Loss at step 2900: 8010.285\n"
          ],
          "name": "stdout"
        },
        {
          "output_type": "display_data",
          "data": {
            "image/png": "[encoded data removed]",
            "text/plain": [
              "<Figure size 432x288 with 1 Axes>"
            ]
          },
          "metadata": {
            "tags": [],
            "needs_background": "light"
          }
        }
      ]
    },
    {
      "cell_type": "markdown",
      "metadata": {
        "id": "fgCu_QyWimfn"
      },
      "source": [
        "We can plot our estimate versus the ground truth to see how well they match up. "
      ]
    },
    {
      "cell_type": "code",
      "metadata": {
        "colab": {
          "base_uri": "https://localhost:8080/",
          "height": 265
        },
        "id": "1vwvgseIiPWN",
        "outputId": "6a7f3c19-f29f-487e-86ed-734caa86a055"
      },
      "source": [
        "plot_density(gt_logits,gt_means,gt_lsigmas)\n",
        "plot_density(model.logits, model.means, model.lsigmas)"
      ],
      "execution_count": 23,
      "outputs": [
        {
          "output_type": "display_data",
          "data": {
            "image/png": "[encoded data removed]",
            "text/plain": [
              "<Figure size 432x288 with 1 Axes>"
            ]
          },
          "metadata": {
            "tags": [],
            "needs_background": "light"
          }
        }
      ]
    }
  ]
}