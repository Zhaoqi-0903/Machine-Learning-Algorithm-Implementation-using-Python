{
  "nbformat": 4,
  "nbformat_minor": 0,
  "metadata": {
    "colab": {
      "name": "EM algorithm.ipynb",
      "provenance": [],
      "collapsed_sections": []
    },
    "kernelspec": {
      "name": "python3",
      "display_name": "Python 3"
    },
    "accelerator": "GPU"
  },
  "cells": [
    {
      "cell_type": "markdown",
      "metadata": {
        "id": "AXaW72yesq46"
      },
      "source": [
        "The expectation and maximization algorithm is an iterative method to find (local) maximum likelihood or maximum a posterior (MAP) estimates of parameters in statistical models, where the model depends on unobserved latent variables `Z`. \n",
        "\n",
        "The algorithm consists of two parts, the expectation (E) step, which computes the expectation of the log-likelihood of `Z` (the posterior of `Z`)evaluated using the current estimate for the parameters,  and the maximization (M) step, which updates parameter estimates maximizing the expected log-likelihood found on the E step. \n",
        "\n",
        "Here, we will implement E step and M step, and train a GMM using the EM algorithm. "
      ]
    },
    {
      "cell_type": "markdown",
      "metadata": {
        "id": "hRyeifrWseHI"
      },
      "source": [
        "# E step\n"
      ]
    },
    {
      "cell_type": "markdown",
      "metadata": {
        "id": "7VP7wMqfv2FS"
      },
      "source": [
        "Implement the function which computs the posterior of latent variable $Z_i$'s given GMM parameters. "
      ]
    },
    {
      "cell_type": "code",
      "metadata": {
        "id": "1fNLgtl6sUfU"
      },
      "source": [
        "def mixture_posterior_logits(x, logits, means, lsigmas):\n",
        "  \"\"\"Given log-unnormalized mixture weights, shift, and log scale parameters\n",
        "  for mixture components, return the posterior of latent z_i's.\n",
        "  Args:\n",
        "      x: N x 1 tensor of 1d targets to get posteriors for.\n",
        "      logits: ncomp tensor of mixing priors of mixture model\n",
        "      means: ncomp tensor of means of mixture model.\n",
        "      lsigmas: ncomp tensor of log std. dev. of mixture model.\n",
        "  Return:\n",
        "      posterior_logits: N x ncomp  tensor logits for posterior of z_i's. \n",
        "  \"\"\"\n",
        "  #p(z=k|x) = pi(k)*N(x|mu_k,sigma_k)/sum(pi(k)*N(x|mu_k,sigma_k))\n",
        "  n = len(x)\n",
        "  mu = means\n",
        "  sigma = tf.math.exp(lsigmas)\n",
        "  pdf=tf.math.exp(-0.5*(x - mu)**2 / sigma**2)/(2*np.pi*sigma**2)**0.5\n",
        "  numerator = tf.nn.softmax(logits)*pdf\n",
        "  sum = tf.reduce_sum(numerator,1)\n",
        "  # numerator /tf.reshape(sum,[n,1]) # the posterior probability p(z=k|x)\n",
        "  #logits = tf.expand_dims(logits, 0)\n",
        "  #return numerator /tf.reshape(sum,[n,1])  \n",
        "  return tf.math.log(pdf) + logits"
      ],
      "execution_count": 3,
      "outputs": []
    },
    {
      "cell_type": "markdown",
      "metadata": {
        "id": "EoYptaHyxnNV"
      },
      "source": [
        "# M Step\n",
        "\n",
        "The M step update the parameter estimates of the GMM given a current posterior."
      ]
    },
    {
      "cell_type": "code",
      "metadata": {
        "id": "XqE0Bi9Vzn9u"
      },
      "source": [
        "def mstep(x, posterior):\n",
        "  \"\"\"Given log-unnormalized mixture weights, shift, and log scale parameters\n",
        "  for mixture components, return the posterior of latent z_i's.\n",
        "  Args:\n",
        "      x: N x 1 tensor of 1d samples.\n",
        "      posterior_logits: N x ncomp  tensor of posterior for z_i's; i.e. sums to\n",
        "        1 along the second axis.\n",
        "  Return:\n",
        "      logits: ncomp tensor of new mixing priors of mixture model\n",
        "      means: ncomp tensor of new means of mixture model.\n",
        "      lsigmas: ncomp tensor of new log std. dev. of mixture model.\n",
        "  \"\"\"\n",
        "  #ncomp = tf.shape(posterior)[1].numpy()\n",
        "  numerator = tf.reduce_sum(posterior*x,0)\n",
        "  sumprob = tf.reduce_sum(posterior,0) # sum w_(j,m) from m =1 to n \n",
        "  mu = numerator/ sumprob  #means\n",
        "  xminusmusquare = (tf.tile(x,(1,5))-tf.transpose(mu))*(tf.tile(x,(1,5))-tf.transpose(mu))\n",
        "  var = tf.reduce_sum(posterior*xminusmusquare,0)/sumprob #sigma^2\n",
        "  sigma = tf.math.sqrt(var)\n",
        "  logits = tf.reduce_mean(posterior,0) #logits \n",
        "  return logits, mu, tf.math.log(sigma) "
      ],
      "execution_count": 19,
      "outputs": []
    },
    {
      "cell_type": "markdown",
      "metadata": {
        "id": "YeFI4Kg1xcIY"
      },
      "source": [
        "# Data Setup\n",
        "\n",
        "We first enable GPUs for the notebook and then import packages of using. "
      ]
    },
    {
      "cell_type": "code",
      "metadata": {
        "colab": {
          "base_uri": "https://localhost:8080/"
        },
        "id": "mDgFNRk5xs_w",
        "outputId": "90946af5-24c7-4ebe-8675-7fd6e9d3f2d5"
      },
      "source": [
        "%tensorflow_version 2.x\n",
        "import tensorflow as tf\n",
        "device_name = tf.test.gpu_device_name()\n",
        "if device_name != '/device:GPU:0':\n",
        "  raise SystemError('GPU device not found')\n",
        "print('Found GPU at: {}'.format(device_name))\n",
        "\n",
        "%matplotlib inline\n",
        "import numpy as np\n",
        "import matplotlib.pyplot as plt"
      ],
      "execution_count": 5,
      "outputs": [
        {
          "output_type": "stream",
          "text": [
            "Found GPU at: /device:GPU:0\n"
          ],
          "name": "stdout"
        }
      ]
    },
    {
      "cell_type": "markdown",
      "metadata": {
        "id": "Q0TtLF_0yBuI"
      },
      "source": [
        "We generate sample data based on the ground truth parameters."
      ]
    },
    {
      "cell_type": "code",
      "metadata": {
        "id": "CMauZn7Ax8mb"
      },
      "source": [
        "gt_logits = tf.math.log([1/4, 1/4, 1/6, 1/6, 1/6])\n",
        "gt_means = tf.convert_to_tensor([1.0, -0.5, -2, .5, 3])\n",
        "gt_lsigmas = tf.math.log([.5, 1.0, .2, 0.1, .5])"
      ],
      "execution_count": 6,
      "outputs": []
    },
    {
      "cell_type": "code",
      "metadata": {
        "id": "mqN47VYlyJ3B"
      },
      "source": [
        "def make_data(N, logits, means, lsigmas):\n",
        "  z = tf.transpose(tf.random.categorical([logits], N))\n",
        "  y = tf.random.normal((N, 1))\n",
        "  sigma = tf.math.exp(lsigmas)\n",
        "  x = y * tf.gather(sigma,z)+tf.gather(means,z)\n",
        "  return x"
      ],
      "execution_count": 7,
      "outputs": []
    },
    {
      "cell_type": "markdown",
      "metadata": {
        "id": "-8uZ0k-mjkA8"
      },
      "source": [
        "We can plot the histogram of our training data. "
      ]
    },
    {
      "cell_type": "code",
      "metadata": {
        "colab": {
          "base_uri": "https://localhost:8080/",
          "height": 265
        },
        "id": "zjXEIznZ1H-S",
        "outputId": "5dd8e899-5957-432d-9f97-2739eb1c2e69"
      },
      "source": [
        "NUM_EXAMPLES = 5000\n",
        "training_inputs = make_data(NUM_EXAMPLES, gt_logits, gt_means, gt_lsigmas)\n",
        "plt.hist(np.reshape(training_inputs, [-1]), bins=50, alpha=0.5,\n",
        "         histtype='stepfilled', color='steelblue', edgecolor='none');"
      ],
      "execution_count": 11,
      "outputs": [
        {
          "output_type": "display_data",
          "data": {
            "image/png": "[encoded data removed]",
            "text/plain": [
              "<Figure size 432x288 with 1 Axes>"
            ]
          },
          "metadata": {
            "tags": [],
            "needs_background": "light"
          }
        }
      ]
    },
    {
      "cell_type": "markdown",
      "metadata": {
        "id": "f92rWzYhyff7"
      },
      "source": [
        "We can plot our true likelihood using the ground truth parameters. The histogram above matches up with the likelihood plot here. "
      ]
    },
    {
      "cell_type": "code",
      "metadata": {
        "colab": {
          "base_uri": "https://localhost:8080/",
          "height": 265
        },
        "id": "EC-2jkWFyRSc",
        "outputId": "03176ce4-0431-4769-f4f6-78ff94f92d15"
      },
      "source": [
        "def mixture_likelihood(x, logits, means, lsigmas):\n",
        "    \"\"\"Given log-unnormalized mixture weights, shift, and log scale parameters\n",
        "    for mixture components, return the likelihoods for targets.\n",
        "    Args:\n",
        "        x: N x 1 tensor of 1d targets to get likelihoods for.\n",
        "        logits: ncomp tensor of mixing priors of mixture model.\n",
        "        means: ncomp tensor of means of mixture model.\n",
        "        lsigmas: ncomp tensor of log std. dev. of mixture model.\n",
        "    Return:\n",
        "        likelihoods: N x 1  tensor of likelihoods log p(x).\n",
        "    \"\"\"\n",
        "    # Compute likelihoods per x\n",
        "    # Write log likelihood with logsumexp.\n",
        "    sigma = tf.math.exp(lsigmas)\n",
        "    pdf = -1/2*((x-means)/sigma)**2 - 1/2*tf.math.log(2*np.pi*sigma**2) # logpdf take log of the pdf first\n",
        "    logp = pdf+ tf.math.log(tf.nn.softmax(logits))\n",
        "    return tf.reduce_logsumexp(logp,1)  # TODO\n",
        "\n",
        "def plot_density(logits, means, lsigmas):\n",
        "  gridx = np.reshape(np.linspace(-5.0, 5.0, 1000), [-1, 1])\n",
        "  log_px = mixture_likelihood(gridx, logits, means, lsigmas)\n",
        "  plt.plot(gridx, np.exp(log_px))\n",
        "  plt.scatter(tf.reshape(means, [-1, 1]), np.exp(mixture_likelihood(tf.reshape(means, [-1, 1]), logits, means, lsigmas)))\n",
        "\n",
        "plot_density(gt_logits, gt_means, gt_lsigmas)"
      ],
      "execution_count": 14,
      "outputs": [
        {
          "output_type": "display_data",
          "data": {
            "image/png": "[encoded data removed]",
            "text/plain": [
              "<Figure size 432x288 with 1 Axes>"
            ]
          },
          "metadata": {
            "tags": [],
            "needs_background": "light"
          }
        }
      ]
    },
    {
      "cell_type": "markdown",
      "metadata": {
        "id": "vL96GZNjxf75"
      },
      "source": [
        "# Implement EM model\n",
        "\n",
        "Based on the above functions, we now implement a model that updates parameters using the E and M steps when called."
      ]
    },
    {
      "cell_type": "code",
      "metadata": {
        "id": "TWn0xyh4yz1n"
      },
      "source": [
        "class EMGMM(tf.keras.Model):\n",
        "  def __init__(self, k):\n",
        "    super(EMGMM, self).__init__()\n",
        "    self.logits = tf.Variable(tf.random.normal([k],0,0.1) , name='logits', trainable=False)\n",
        "    self.means = tf.Variable(tf.random.normal([k],0,0.1), name='means',trainable=False) \n",
        "    self.lsigmas = tf.Variable(tf.random.normal([k],0,0.1), name='lsigmas',trainable=False) \n",
        "  def call(self, inputs):\n",
        "    \"\"\"\n",
        "    E step\n",
        "    \"\"\"\n",
        "    posterior = tf.nn.softmax(mixture_posterior_logits(inputs, self.logits, self.means, self.lsigmas), axis = -1)  # TODO\n",
        "    \"\"\"\n",
        "    M step\n",
        "    \"\"\"\n",
        "    new_logits, new_means, new_lsigmas = mstep(inputs, posterior) \n",
        "\n",
        "    self.logits.assign(new_logits)\n",
        "    self.means.assign(new_means)\n",
        "    self.lsigmas.assign(new_lsigmas)\n",
        "    return None  # Shouldn't return anything\n"
      ],
      "execution_count": 20,
      "outputs": []
    },
    {
      "cell_type": "markdown",
      "metadata": {
        "id": "KavlGc5AkSai"
      },
      "source": [
        "## Optimization \n",
        "\n",
        "We can train the model as follow. "
      ]
    },
    {
      "cell_type": "code",
      "metadata": {
        "colab": {
          "base_uri": "https://localhost:8080/",
          "height": 265
        },
        "id": "d7bDd8jg07qP",
        "outputId": "1b0458e7-cc8f-43b7-ffeb-b90cbbf2b9c7"
      },
      "source": [
        "K = 5\n",
        "model = EMGMM(K)\n",
        "\n",
        "steps = 3000\n",
        "for i in range(steps):\n",
        "  model(training_inputs)\n",
        "  if i % 100 == 0:\n",
        "    #print(model.means)\n",
        "    plot_density( model.logits, model.means, model.lsigmas)"
      ],
      "execution_count": 27,
      "outputs": [
        {
          "output_type": "display_data",
          "data": {
            "image/png": "[encoded data removed]",
            "text/plain": [
              "<Figure size 432x288 with 1 Axes>"
            ]
          },
          "metadata": {
            "tags": [],
            "needs_background": "light"
          }
        }
      ]
    },
    {
      "cell_type": "markdown",
      "metadata": {
        "id": "MWIj7Gpwkrx8"
      },
      "source": [
        "And compare to the true likelihood. It shows that the training result is very similar to the true density."
      ]
    },
    {
      "cell_type": "code",
      "metadata": {
        "colab": {
          "base_uri": "https://localhost:8080/",
          "height": 265
        },
        "id": "qTvIXaaai6mi",
        "outputId": "cac79118-6b62-4f49-bf4f-32108ab96604"
      },
      "source": [
        "plot_density(gt_logits, gt_means, gt_lsigmas)\n",
        "plot_density(model.logits, model.means, model.lsigmas)"
      ],
      "execution_count": 28,
      "outputs": [
        {
          "output_type": "display_data",
          "data": {
            "image/png": "[encoded data removed]",
            "text/plain": [
              "<Figure size 432x288 with 1 Axes>"
            ]
          },
          "metadata": {
            "tags": [],
            "needs_background": "light"
          }
        }
      ]
    }
  ]
}